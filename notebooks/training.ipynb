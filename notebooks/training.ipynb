{
 "cells": [
  {
   "cell_type": "markdown",
   "id": "1cb325da-6025-4011-934a-924b3efdb519",
   "metadata": {},
   "source": [
    "Imports"
   ]
  },
  {
   "cell_type": "code",
   "execution_count": 29,
   "id": "bce0ea9d-dccb-4ecd-9917-2fdba3a37494",
   "metadata": {},
   "outputs": [],
   "source": [
    "# import os\n",
    "# os.environ[\"PYTORCH_ENABLE_MPS_FALLBACK\"] = \"1\"\n",
    "# os.environ[\"CUDA_VISIBLE_DEVICES\"] = \"\"\n",
    "# os.environ[\"PYTORCH_MPS_FALLBACK\"] = \"1\""
   ]
  },
  {
   "cell_type": "code",
   "execution_count": 1,
   "id": "2e760a28-c544-4fff-8a10-622f9410cb57",
   "metadata": {},
   "outputs": [
    {
     "name": "stderr",
     "output_type": "stream",
     "text": [
      "/Users/AICrete/.local/share/virtualenvs/toxicity-detector-6bNudyAg/lib/python3.13/site-packages/tqdm/auto.py:21: TqdmWarning: IProgress not found. Please update jupyter and ipywidgets. See https://ipywidgets.readthedocs.io/en/stable/user_install.html\n",
      "  from .autonotebook import tqdm as notebook_tqdm\n"
     ]
    }
   ],
   "source": [
    "from datasets import load_dataset\n",
    "from transformers import AutoTokenizer, AutoModelForSequenceClassification, TrainingArguments, Trainer\n",
    "from peft import get_peft_model, LoraConfig, TaskType\n",
    "import torch\n",
    "from torch.utils.data import DataLoader\n",
    "from tqdm import tqdm"
   ]
  },
  {
   "cell_type": "code",
   "execution_count": 2,
   "id": "1d1a25c6-a16d-4833-8278-7c0a3eee59a1",
   "metadata": {},
   "outputs": [
    {
     "name": "stdout",
     "output_type": "stream",
     "text": [
      "using device cpu\n"
     ]
    }
   ],
   "source": [
    "# set the device\n",
    "device = torch.device(\"cuda\" if torch.cuda.is_available() else \"cpu\")\n",
    "# device = torch.device(\"cpu\")\n",
    "print(f\"using device {device}\")"
   ]
  },
  {
   "cell_type": "code",
   "execution_count": 3,
   "id": "078d726e-7a9c-437e-b722-e58b3788edcf",
   "metadata": {},
   "outputs": [],
   "source": [
    "# load dataset\n",
    "dataset = load_dataset(\"civil_comments\", split=\"train[:5000]\")"
   ]
  },
  {
   "cell_type": "code",
   "execution_count": 4,
   "id": "eb6bef39-171e-4991-9da2-53e71ba0ecef",
   "metadata": {},
   "outputs": [
    {
     "name": "stdout",
     "output_type": "stream",
     "text": [
      "dataset shape: (5000, 8)\n",
      "column names: ['text', 'toxicity', 'severe_toxicity', 'obscene', 'threat', 'insult', 'identity_attack', 'sexual_explicit']\n",
      "It's almost amusing that you characterize Law Enforcement's approach to the Bundy militia's armed occupation as \"confrontational.\"  These folks worked extremely patiently for six week to achieve a peaceful surrender.  Negotiations with armed occupiers seldom includes offering them a \"King's X\" for the crimes they have committed. You speak of the \"hard line\".  Do you propose that seeking a peaceful surrender and having the armed occupiers face the legal consequences of their actions constitutes a \"hard line.\"? \n",
      " 0.0 \n",
      "---\n",
      "\n",
      "When the moon hits your eye like a bigga pizza pie, that's amore'. \n",
      " 0.20000000298023224 \n",
      "---\n",
      "\n",
      "Yep, Obama and Bush W. gave us Trump.  We do indeed need \"toughness\", NOW! \n",
      " 0.30000001192092896 \n",
      "---\n",
      "\n"
     ]
    }
   ],
   "source": [
    "# Examine the dataset and look at examples and columns\n",
    "import random\n",
    "random_idxs = random.sample(range(len(dataset)), 3)\n",
    "print(f\"dataset shape: {dataset.shape}\")\n",
    "print(f\"column names: {dataset.column_names}\")\n",
    "random_samples = dataset.select(random_idxs)\n",
    "for sample in random_samples:\n",
    "    print(sample['text'], \"\\n\", sample['toxicity'], \"\\n---\\n\")"
   ]
  },
  {
   "cell_type": "markdown",
   "id": "0a8b801a-2d1b-49c4-81c6-072f2c80be45",
   "metadata": {},
   "source": [
    "```batched=True``` does the mapping in batches, hence is faster"
   ]
  },
  {
   "cell_type": "code",
   "execution_count": 5,
   "id": "29744ce1-2c02-4790-bf43-040b345f38e6",
   "metadata": {},
   "outputs": [],
   "source": [
    "# preprocess\n",
    "def preprocess(batch):\n",
    "    return {\n",
    "        \"text\": batch[\"text\"],\n",
    "        \"label\": [int(t > 0.5) for t in batch[\"toxicity\"]]\n",
    "    }\n",
    "\n",
    "dataset = dataset.map(\n",
    "    preprocess, \n",
    "    batched=True,\n",
    "    load_from_cache_file=True, \n",
    "    desc=\"Processing dataset\"\n",
    ")\n",
    "dataset = dataset.remove_columns([col for col in dataset.column_names if col not in [\"text\", \"label\"]])\n",
    "split = dataset.train_test_split(test_size=0.2, seed = 32)\n",
    "train_dataset = split[\"train\"]\n",
    "test_dataset = split[\"test\"]"
   ]
  },
  {
   "cell_type": "code",
   "execution_count": 6,
   "id": "205f761c-43be-408e-837c-2af7a465b24d",
   "metadata": {},
   "outputs": [],
   "source": [
    "# Tokenizer and model\n",
    "model_name = \"distilbert-base-uncased\"\n",
    "tokenizer = AutoTokenizer.from_pretrained(model_name)"
   ]
  },
  {
   "cell_type": "markdown",
   "id": "ac4bf350-84dc-45d9-8ced-6ce6414bc07b",
   "metadata": {},
   "source": [
    "padding is required when batching data"
   ]
  },
  {
   "cell_type": "code",
   "execution_count": 7,
   "id": "7778669f-d2fa-4097-a5ae-522f87e86455",
   "metadata": {},
   "outputs": [],
   "source": [
    "# Tokenize in batches with truncation and padding\n",
    "def tokenize_function(batch):\n",
    "    return tokenizer(batch[\"text\"], padding=\"max_length\", truncation=True, max_length=128)\n",
    "\n",
    "train_dataset = train_dataset.map(\n",
    "    tokenize_function,\n",
    "    batched=True,\n",
    "    remove_columns=[\"text\"],\n",
    "    load_from_cache_file=True,\n",
    "    desc=\"Tokenizing train data\"\n",
    ")\n",
    "test_dataset = test_dataset.map(\n",
    "    tokenize_function,\n",
    "    batched=True,\n",
    "    remove_columns=[\"text\"],\n",
    "    load_from_cache_file=True,\n",
    "    desc=\"Tokenizing test data\"\n",
    ")"
   ]
  },
  {
   "cell_type": "markdown",
   "id": "28739c95-afad-4afd-a4de-4c1fc199cff3",
   "metadata": {},
   "source": [
    "attention_mask tells the model itself during training or inference which parts of the input are real tokens (1) and which are padding (0)\n"
   ]
  },
  {
   "cell_type": "code",
   "execution_count": 8,
   "id": "7b6ca79c-dc10-4371-9834-d93f777ef8c4",
   "metadata": {},
   "outputs": [],
   "source": [
    "# Set format for PyTorch\n",
    "torch_columns = [\"input_ids\", \"attention_mask\", \"label\"]\n",
    "train_dataset.set_format(type=\"torch\", columns=torch_columns)\n",
    "test_dataset.set_format(type=\"torch\", columns=torch_columns)"
   ]
  },
  {
   "cell_type": "markdown",
   "id": "ae3621fd-2842-4e68-b154-b4adae2c1565",
   "metadata": {},
   "source": [
    "LoRAConfig Parameters\n",
    "--task_type: Tells the LoRA setup what kind of task you're working on. TaskType.SEQ_CLS = sequence classification (Other types include CAUSAL_LM, SEQ_2_SEQ_LM, etc.)\n",
    "\n",
    "--target_modules: Refer to common linear layers in transformer attention mechanisms where LoRA is usually applied. \n",
    "\n",
    "--r: Rank of the low-rank adapters.\n",
    "\n",
    "--lora_alpha: A scaling factor applied to the adapter output, like a learning rate multiplier for the adapter layers.\n",
    "\n",
    "--lora_dropout: Applies dropout only to the LoRA adapter layers to prevent overfitting when fine-tuning on small datasets.\n",
    "\n",
    "--inference_mode: If True, disables adapter training (useful for inference-only scenarios). Set to False during training, so LoRA layers are trained.\n",
    "\n"
   ]
  },
  {
   "cell_type": "code",
   "execution_count": 9,
   "id": "186352b6-c4d4-4833-bf85-7436cf7fd14c",
   "metadata": {},
   "outputs": [
    {
     "name": "stderr",
     "output_type": "stream",
     "text": [
      "Some weights of DistilBertForSequenceClassification were not initialized from the model checkpoint at distilbert-base-uncased and are newly initialized: ['classifier.bias', 'classifier.weight', 'pre_classifier.bias', 'pre_classifier.weight']\n",
      "You should probably TRAIN this model on a down-stream task to be able to use it for predictions and inference.\n"
     ]
    },
    {
     "data": {
      "text/plain": [
       "PeftModelForSequenceClassification(\n",
       "  (base_model): LoraModel(\n",
       "    (model): DistilBertForSequenceClassification(\n",
       "      (distilbert): DistilBertModel(\n",
       "        (embeddings): Embeddings(\n",
       "          (word_embeddings): Embedding(30522, 768, padding_idx=0)\n",
       "          (position_embeddings): Embedding(512, 768)\n",
       "          (LayerNorm): LayerNorm((768,), eps=1e-12, elementwise_affine=True)\n",
       "          (dropout): Dropout(p=0.1, inplace=False)\n",
       "        )\n",
       "        (transformer): Transformer(\n",
       "          (layer): ModuleList(\n",
       "            (0-5): 6 x TransformerBlock(\n",
       "              (attention): DistilBertSdpaAttention(\n",
       "                (dropout): Dropout(p=0.1, inplace=False)\n",
       "                (q_lin): lora.Linear(\n",
       "                  (base_layer): Linear(in_features=768, out_features=768, bias=True)\n",
       "                  (lora_dropout): ModuleDict(\n",
       "                    (default): Dropout(p=0.1, inplace=False)\n",
       "                  )\n",
       "                  (lora_A): ModuleDict(\n",
       "                    (default): Linear(in_features=768, out_features=8, bias=False)\n",
       "                  )\n",
       "                  (lora_B): ModuleDict(\n",
       "                    (default): Linear(in_features=8, out_features=768, bias=False)\n",
       "                  )\n",
       "                  (lora_embedding_A): ParameterDict()\n",
       "                  (lora_embedding_B): ParameterDict()\n",
       "                  (lora_magnitude_vector): ModuleDict()\n",
       "                )\n",
       "                (k_lin): Linear(in_features=768, out_features=768, bias=True)\n",
       "                (v_lin): lora.Linear(\n",
       "                  (base_layer): Linear(in_features=768, out_features=768, bias=True)\n",
       "                  (lora_dropout): ModuleDict(\n",
       "                    (default): Dropout(p=0.1, inplace=False)\n",
       "                  )\n",
       "                  (lora_A): ModuleDict(\n",
       "                    (default): Linear(in_features=768, out_features=8, bias=False)\n",
       "                  )\n",
       "                  (lora_B): ModuleDict(\n",
       "                    (default): Linear(in_features=8, out_features=768, bias=False)\n",
       "                  )\n",
       "                  (lora_embedding_A): ParameterDict()\n",
       "                  (lora_embedding_B): ParameterDict()\n",
       "                  (lora_magnitude_vector): ModuleDict()\n",
       "                )\n",
       "                (out_lin): Linear(in_features=768, out_features=768, bias=True)\n",
       "              )\n",
       "              (sa_layer_norm): LayerNorm((768,), eps=1e-12, elementwise_affine=True)\n",
       "              (ffn): FFN(\n",
       "                (dropout): Dropout(p=0.1, inplace=False)\n",
       "                (lin1): Linear(in_features=768, out_features=3072, bias=True)\n",
       "                (lin2): Linear(in_features=3072, out_features=768, bias=True)\n",
       "                (activation): GELUActivation()\n",
       "              )\n",
       "              (output_layer_norm): LayerNorm((768,), eps=1e-12, elementwise_affine=True)\n",
       "            )\n",
       "          )\n",
       "        )\n",
       "      )\n",
       "      (pre_classifier): ModulesToSaveWrapper(\n",
       "        (original_module): Linear(in_features=768, out_features=768, bias=True)\n",
       "        (modules_to_save): ModuleDict(\n",
       "          (default): Linear(in_features=768, out_features=768, bias=True)\n",
       "        )\n",
       "      )\n",
       "      (classifier): ModulesToSaveWrapper(\n",
       "        (original_module): Linear(in_features=768, out_features=2, bias=True)\n",
       "        (modules_to_save): ModuleDict(\n",
       "          (default): Linear(in_features=768, out_features=2, bias=True)\n",
       "        )\n",
       "      )\n",
       "      (dropout): Dropout(p=0.2, inplace=False)\n",
       "    )\n",
       "  )\n",
       ")"
      ]
     },
     "execution_count": 9,
     "metadata": {},
     "output_type": "execute_result"
    }
   ],
   "source": [
    "# load base model and fine tune with LoRA\n",
    "base_model = AutoModelForSequenceClassification.from_pretrained(model_name, num_labels=2)\n",
    "peft_config = LoraConfig(\n",
    "    task_type=TaskType.SEQ_CLS,\n",
    "    target_modules=[\"q_lin\", \"v_lin\"],  # common in BERT-like models\n",
    "    r=8,\n",
    "    lora_alpha=32,\n",
    "    lora_dropout=0.1,\n",
    "    inference_mode=False\n",
    ")\n",
    "model = get_peft_model(base_model, peft_config)\n",
    "model.to(device)"
   ]
  },
  {
   "cell_type": "markdown",
   "id": "a6a19a68-dda2-4e34-a4dd-22d649d638e4",
   "metadata": {},
   "source": [
    "--output_dir: Where to save model checkpoints and logs.\n",
    "\n",
    "--save_strategy=\"epoch\": Save model checkpoint at the end of each epoch.\n",
    "\n",
    "--logging_dir: Directory to store TensorBoard logs.\n",
    "\n",
    "--per_device_train_batch_size=16: Batch size for training per device (CPU/GPU).\n",
    "\n",
    "--per_device_eval_batch_size=16: Batch size for evaluation per device.\n",
    "\n",
    "--num_train_epochs=3: Number of full passes through the training data.\n",
    "\n",
    "--learning_rate=2e-5: Initial learning rate for optimizer.\n",
    "\n",
    "--report_to=\"none\": Disable automatic logging to platforms like W&B or TensorBoard.\n",
    "\n",
    "--logging_steps=100: Log training progress every 100 steps.\n"
   ]
  },
  {
   "cell_type": "code",
   "execution_count": 10,
   "id": "94ea9625-666c-49b2-8052-cbf1b192d6a7",
   "metadata": {},
   "outputs": [
    {
     "name": "stderr",
     "output_type": "stream",
     "text": [
      "/Users/AICrete/.local/share/virtualenvs/toxicity-detector-6bNudyAg/lib/python3.13/site-packages/transformers/training_args.py:1577: FutureWarning: using `no_cuda` is deprecated and will be removed in version 5.0 of 🤗 Transformers. Use `use_cpu` instead\n",
      "  warnings.warn(\n"
     ]
    }
   ],
   "source": [
    "# Training arguments\n",
    "training_args = TrainingArguments(\n",
    "    output_dir=\"./outputs\",\n",
    "    save_strategy=\"epoch\",\n",
    "    logging_dir=\"./logs\",\n",
    "    per_device_train_batch_size=16,\n",
    "    per_device_eval_batch_size=16,\n",
    "    num_train_epochs=3,\n",
    "    learning_rate=2e-5,\n",
    "    report_to=\"none\",\n",
    "    logging_steps=100,\n",
    "    no_cuda=True\n",
    ")"
   ]
  },
  {
   "cell_type": "code",
   "execution_count": 11,
   "id": "d8d180a7-a3e3-430c-a54b-243f0195b411",
   "metadata": {},
   "outputs": [],
   "source": [
    "# Metric for evaluation\n",
    "def compute_metrics(p):\n",
    "    preds = np.argmax(p.predictions, axis=1)\n",
    "    return {\"accuracy\": accuracy_score(p.label_ids, preds)}"
   ]
  },
  {
   "cell_type": "code",
   "execution_count": 12,
   "id": "3e74f14d-f5e9-4fc4-a46b-5279db283642",
   "metadata": {},
   "outputs": [
    {
     "name": "stderr",
     "output_type": "stream",
     "text": [
      "/var/folders/zh/n1xz70ws7yscwjhc9ywgb2140000gn/T/ipykernel_23303/4033467109.py:2: FutureWarning: `tokenizer` is deprecated and will be removed in version 5.0.0 for `Trainer.__init__`. Use `processing_class` instead.\n",
      "  trainer = Trainer(\n",
      "No label_names provided for model class `PeftModelForSequenceClassification`. Since `PeftModel` hides base models input arguments, if label_names is not given, label_names can't be set automatically within `Trainer`. Note that empty label_names list will be used instead.\n"
     ]
    },
    {
     "data": {
      "text/html": [
       "\n",
       "    <div>\n",
       "      \n",
       "      <progress value='750' max='750' style='width:300px; height:20px; vertical-align: middle;'></progress>\n",
       "      [750/750 08:28, Epoch 3/3]\n",
       "    </div>\n",
       "    <table border=\"1\" class=\"dataframe\">\n",
       "  <thead>\n",
       " <tr style=\"text-align: left;\">\n",
       "      <th>Step</th>\n",
       "      <th>Training Loss</th>\n",
       "    </tr>\n",
       "  </thead>\n",
       "  <tbody>\n",
       "    <tr>\n",
       "      <td>100</td>\n",
       "      <td>0.298600</td>\n",
       "    </tr>\n",
       "    <tr>\n",
       "      <td>200</td>\n",
       "      <td>0.157500</td>\n",
       "    </tr>\n",
       "    <tr>\n",
       "      <td>300</td>\n",
       "      <td>0.147200</td>\n",
       "    </tr>\n",
       "    <tr>\n",
       "      <td>400</td>\n",
       "      <td>0.152100</td>\n",
       "    </tr>\n",
       "    <tr>\n",
       "      <td>500</td>\n",
       "      <td>0.130900</td>\n",
       "    </tr>\n",
       "    <tr>\n",
       "      <td>600</td>\n",
       "      <td>0.152100</td>\n",
       "    </tr>\n",
       "    <tr>\n",
       "      <td>700</td>\n",
       "      <td>0.153500</td>\n",
       "    </tr>\n",
       "  </tbody>\n",
       "</table><p>"
      ],
      "text/plain": [
       "<IPython.core.display.HTML object>"
      ]
     },
     "metadata": {},
     "output_type": "display_data"
    },
    {
     "data": {
      "text/plain": [
       "TrainOutput(global_step=750, training_loss=0.16571710332234701, metrics={'train_runtime': 509.509, 'train_samples_per_second': 23.552, 'train_steps_per_second': 1.472, 'total_flos': 404218220544000.0, 'train_loss': 0.16571710332234701, 'epoch': 3.0})"
      ]
     },
     "execution_count": 12,
     "metadata": {},
     "output_type": "execute_result"
    }
   ],
   "source": [
    "# Initialize trainer\n",
    "trainer = Trainer(\n",
    "    model=model,\n",
    "    args=training_args,\n",
    "    train_dataset=train_dataset,\n",
    "    eval_dataset=test_dataset,\n",
    "    tokenizer=tokenizer,\n",
    "    compute_metrics=compute_metrics\n",
    ")\n",
    "\n",
    "# Start training\n",
    "trainer.train()\n"
   ]
  },
  {
   "cell_type": "code",
   "execution_count": 13,
   "id": "a68596fc-fe27-4992-8974-ba06dce66b76",
   "metadata": {},
   "outputs": [
    {
     "name": "stderr",
     "output_type": "stream",
     "text": [
      "Evaluating: 100%|██████████████████████████████████████████████████████████████████████████████| 63/63 [00:13<00:00,  4.69it/s]"
     ]
    },
    {
     "name": "stdout",
     "output_type": "stream",
     "text": [
      "\n",
      "Custom Evaluation Accuracy: 0.9710\n"
     ]
    },
    {
     "name": "stderr",
     "output_type": "stream",
     "text": [
      "\n"
     ]
    }
   ],
   "source": [
    "# Create DataLoader\n",
    "test_loader = DataLoader(test_dataset, batch_size=16)\n",
    "\n",
    "model.eval()\n",
    "correct = 0\n",
    "total = 0\n",
    "\n",
    "with torch.no_grad():\n",
    "    for batch in tqdm(test_loader, desc=\"Evaluating\"):\n",
    "        batch = {k: v.to(device) for k, v in batch.items()}\n",
    "        outputs = model(\n",
    "            input_ids=batch[\"input_ids\"],\n",
    "            attention_mask=batch[\"attention_mask\"],\n",
    "            labels=batch[\"label\"]  # pass as `labels`, not `label`\n",
    "        )\n",
    "        preds = torch.argmax(outputs.logits, dim=1)\n",
    "        correct += (preds == batch[\"label\"]).sum().item()\n",
    "        total += batch[\"label\"].size(0)\n",
    "\n",
    "accuracy = correct / total\n",
    "print(f\"\\nCustom Evaluation Accuracy: {accuracy:.4f}\")\n"
   ]
  },
  {
   "cell_type": "code",
   "execution_count": 15,
   "id": "eb5e8e91-cc10-48d7-9608-02d12b4cd612",
   "metadata": {},
   "outputs": [
    {
     "data": {
      "text/plain": [
       "('./outputs/tokenizer_config.json',\n",
       " './outputs/special_tokens_map.json',\n",
       " './outputs/vocab.txt',\n",
       " './outputs/added_tokens.json',\n",
       " './outputs/tokenizer.json')"
      ]
     },
     "execution_count": 15,
     "metadata": {},
     "output_type": "execute_result"
    }
   ],
   "source": [
    "model.save_pretrained(\"./outputs\")\n",
    "tokenizer.save_pretrained(\"./outputs\")"
   ]
  },
  {
   "cell_type": "code",
   "execution_count": null,
   "id": "f7448483-7309-4c00-aa7d-926eb30abe27",
   "metadata": {},
   "outputs": [],
   "source": []
  }
 ],
 "metadata": {
  "kernelspec": {
   "display_name": "Python (toxic-env)",
   "language": "python",
   "name": "toxic-env"
  },
  "language_info": {
   "codemirror_mode": {
    "name": "ipython",
    "version": 3
   },
   "file_extension": ".py",
   "mimetype": "text/x-python",
   "name": "python",
   "nbconvert_exporter": "python",
   "pygments_lexer": "ipython3",
   "version": "3.13.4"
  }
 },
 "nbformat": 4,
 "nbformat_minor": 5
}
